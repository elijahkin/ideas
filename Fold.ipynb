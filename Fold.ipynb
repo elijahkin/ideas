{
 "cells": [
  {
   "cell_type": "code",
   "execution_count": 1,
   "metadata": {},
   "outputs": [],
   "source": [
    "def mean(lst):\n",
    "  s = 0\n",
    "  for x in lst:\n",
    "    s += x\n",
    "  return s / len(lst)\n",
    "\n",
    "def minimum_index(lst):\n",
    "  min_i = 0\n",
    "  for i in range(len(lst)):\n",
    "    if lst[i] < lst[min_i]:\n",
    "      min_i = i\n",
    "  return min_i\n",
    "\n",
    "def maximum_index(lst):\n",
    "  max_i = 0\n",
    "  for i in range(len(lst)):\n",
    "    if lst[i] > lst[max_i]:\n",
    "      max_i = i\n",
    "  return max_i"
   ]
  },
  {
   "cell_type": "code",
   "execution_count": 2,
   "metadata": {},
   "outputs": [],
   "source": [
    "def fold(lst, f, init):\n",
    "  s = init\n",
    "  for x in lst:\n",
    "    s = f(s, x)\n",
    "  return s\n",
    "\n",
    "def summ(lst):\n",
    "  return fold(lst, lambda a, b: a + b, 0)\n",
    "\n",
    "def maxi(lst):\n",
    "  return fold(lst, lambda a, b: max(a, b), float('-inf'))\n",
    "\n",
    "def mini(lst):\n",
    "  return fold(lst, lambda a, b: min(a, b), float('inf'))\n",
    "\n",
    "def prod(lst):\n",
    "  return fold(lst, lambda a, b: a * b, 1)"
   ]
  },
  {
   "cell_type": "code",
   "execution_count": 3,
   "metadata": {},
   "outputs": [],
   "source": [
    "import numpy as np\n",
    "x = np.random.rand(100)\n",
    "\n",
    "assert(np.isclose(np.sum(x), summ(x)))\n",
    "assert(np.isclose(np.max(x), maxi(x)))\n",
    "assert(np.isclose(np.min(x), mini(x)))\n",
    "assert(np.isclose(np.prod(x), prod(x)))"
   ]
  }
 ],
 "metadata": {
  "kernelspec": {
   "display_name": "Python 3",
   "language": "python",
   "name": "python3"
  },
  "language_info": {
   "codemirror_mode": {
    "name": "ipython",
    "version": 3
   },
   "file_extension": ".py",
   "mimetype": "text/x-python",
   "name": "python",
   "nbconvert_exporter": "python",
   "pygments_lexer": "ipython3",
   "version": "3.9.5"
  }
 },
 "nbformat": 4,
 "nbformat_minor": 2
}
