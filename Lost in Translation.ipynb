{
 "cells": [
  {
   "cell_type": "code",
   "execution_count": 1,
   "metadata": {},
   "outputs": [],
   "source": [
    "import googletrans\n",
    "import random"
   ]
  },
  {
   "cell_type": "code",
   "execution_count": 2,
   "metadata": {},
   "outputs": [],
   "source": [
    "def scramble(string, num_passes):\n",
    "    # Generate passes\n",
    "    passes = random.sample(sorted(googletrans.LANGCODES), num_passes)\n",
    "    passes.append('english')\n",
    "\n",
    "    # Print out the passes\n",
    "    print('english -> ' + ' -> '.join(passes) + '\\n')\n",
    "\n",
    "    translator = googletrans.Translator()\n",
    "\n",
    "    # Perform each pass\n",
    "    prev = 'en'\n",
    "    for lang in passes:\n",
    "        string = translator.translate(string, lang, prev).text\n",
    "        print(lang + \": \" + string)\n",
    "        prev = lang"
   ]
  },
  {
   "cell_type": "code",
   "execution_count": 4,
   "metadata": {},
   "outputs": [
    {
     "name": "stdout",
     "output_type": "stream",
     "text": [
      "english -> frisian -> basque -> georgian -> chinese (simplified) -> bengali -> hungarian -> lao -> estonian -> english\n",
      "\n",
      "frisian: Dizze sin sil troch acht nivo's fan oersetting gean! Hoe oars sil it útkomme?\n",
      "basque: Esaldi honek zortzi itzulpen maila igaroko ditu! Bestela nola aterako da?\n",
      "georgian: ეს წინადადება გაივლის თარგმანის რვა დონეს! სხვანაირად როგორ გამოვა?\n",
      "chinese (simplified): 这句话要经过八层翻译！不然结果会如何呢？\n",
      "bengali: এই বাক্যটি অনুবাদের আটটি স্তরের মধ্য দিয়ে যেতে হবে! নইলে কি ফল হত?\n",
      "hungarian: Ez a mondat nyolc fordítási szinten megy keresztül! Különben mi lenne az eredmény?\n",
      "lao: ປະໂຫຍກນີ້ຜ່ານແປດລະດັບການແປພາສາ! ຖ້າບໍ່ດັ່ງນັ້ນ, ຜົນໄດ້ຮັບຈະເປັນແນວໃດ?\n",
      "estonian: See lause läbi kaheksa tõlketaseme! Muidu, mis on tulemus?\n",
      "english: This sentence through eight translation levels! Otherwise, what is the result?\n"
     ]
    }
   ],
   "source": [
    "scramble('This sentence will go through eight levels of translation! How different will it come out?', 8)"
   ]
  }
 ],
 "metadata": {
  "kernelspec": {
   "display_name": "Python 3",
   "language": "python",
   "name": "python3"
  },
  "language_info": {
   "codemirror_mode": {
    "name": "ipython",
    "version": 3
   },
   "file_extension": ".py",
   "mimetype": "text/x-python",
   "name": "python",
   "nbconvert_exporter": "python",
   "pygments_lexer": "ipython3",
   "version": "3.11.2"
  }
 },
 "nbformat": 4,
 "nbformat_minor": 2
}
