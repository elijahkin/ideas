{
 "cells": [
  {
   "cell_type": "code",
   "execution_count": 1,
   "metadata": {},
   "outputs": [],
   "source": [
    "import math\n",
    "import numpy as np"
   ]
  },
  {
   "cell_type": "markdown",
   "metadata": {},
   "source": [
    "# 2. Rootfinding"
   ]
  },
  {
   "cell_type": "markdown",
   "metadata": {},
   "source": [
    "### 2.1. Bisection Method"
   ]
  },
  {
   "cell_type": "code",
   "execution_count": 2,
   "metadata": {},
   "outputs": [],
   "source": [
    "def bisection(f, a, b, prec):\n",
    "  # By the IVT there must exist a root between a and b\n",
    "  while (b - a) / 2 > prec:\n",
    "    # Compute the midpoint between a and b\n",
    "    midpoint = (a + b) / 2\n",
    "    # Otherwise update either a or b\n",
    "    if f(midpoint) * f(a) < 0:\n",
    "      b = midpoint\n",
    "    else:\n",
    "      a = midpoint\n",
    "  return midpoint"
   ]
  },
  {
   "cell_type": "markdown",
   "metadata": {},
   "source": [
    "We can approximate $\\sqrt[3]{13}$ to three decimal places by applying the bisection method to the equation $x^3 - 13 = 0$."
   ]
  },
  {
   "cell_type": "code",
   "execution_count": 3,
   "metadata": {},
   "outputs": [
    {
     "data": {
      "text/plain": [
       "2.35107421875"
      ]
     },
     "execution_count": 3,
     "metadata": {},
     "output_type": "execute_result"
    }
   ],
   "source": [
    "bisection(lambda x: x**3 - 13, 0, 3, 10**-3)"
   ]
  },
  {
   "cell_type": "markdown",
   "metadata": {},
   "source": [
    "### 2.2. False Position"
   ]
  },
  {
   "cell_type": "markdown",
   "metadata": {},
   "source": [
    "### 2.3. Fixed Point Iteration"
   ]
  },
  {
   "cell_type": "code",
   "execution_count": 4,
   "metadata": {},
   "outputs": [],
   "source": [
    "def fixed_point(f, x, n):\n",
    "  for _ in range(n):\n",
    "    x = f(x)\n",
    "  return x"
   ]
  },
  {
   "cell_type": "markdown",
   "metadata": {},
   "source": [
    "Consider the function $g(x) = 2x(1 - x)$, which has fixed points $x = 0$ and at $x = 1/2$."
   ]
  },
  {
   "cell_type": "code",
   "execution_count": 5,
   "metadata": {},
   "outputs": [
    {
     "data": {
      "text/plain": [
       "0.5"
      ]
     },
     "execution_count": 5,
     "metadata": {},
     "output_type": "execute_result"
    }
   ],
   "source": [
    "fixed_point(lambda x: 2 * x * (1 - x), 0.25, 7)"
   ]
  },
  {
   "cell_type": "markdown",
   "metadata": {},
   "source": [
    "Consider the function $g(x) = e^{-x^2}$. With a starting approximation of $p_0 = 0$, we can use the iteration scheme $p_n = g(p_{n - 1})$ to approximate the fixed point on $[0, 1]$ to within $5 \\cdot 10^{-7}$."
   ]
  },
  {
   "cell_type": "code",
   "execution_count": 6,
   "metadata": {},
   "outputs": [
    {
     "data": {
      "text/plain": [
       "0.5868787737589396"
      ]
     },
     "execution_count": 6,
     "metadata": {},
     "output_type": "execute_result"
    }
   ],
   "source": [
    "fixed_point(lambda x: math.exp(-x**2), 0, 10)"
   ]
  },
  {
   "cell_type": "markdown",
   "metadata": {},
   "source": [
    "### 2.4. Newton's Method"
   ]
  },
  {
   "cell_type": "markdown",
   "metadata": {},
   "source": [
    "Newton's method is perhaps the most well known fixed point iteration scheme from approximating the roots of an arbitrary function."
   ]
  },
  {
   "cell_type": "code",
   "execution_count": 7,
   "metadata": {},
   "outputs": [],
   "source": [
    "def newton(f, df, x, n):\n",
    "  for _ in range(n):\n",
    "    x -= f(x) / df(x)\n",
    "  return x"
   ]
  },
  {
   "cell_type": "markdown",
   "metadata": {},
   "source": [
    "Perform Newton's method to determine $p_4$, the fourth approximation to the location of the root of $\\cos x - x = 0$."
   ]
  },
  {
   "cell_type": "code",
   "execution_count": 8,
   "metadata": {},
   "outputs": [
    {
     "data": {
      "text/plain": [
       "0.7390851332152197"
      ]
     },
     "execution_count": 8,
     "metadata": {},
     "output_type": "execute_result"
    }
   ],
   "source": [
    "newton(lambda x: math.cos(x) - x, lambda x: -math.sin(x) - 1, 0.25, 4)"
   ]
  },
  {
   "cell_type": "markdown",
   "metadata": {},
   "source": [
    "Perform five iterations of Newton's method for the equation $x^7 = 3$ which has a root on the interval $(1, 2)$, namely $x = \\sqrt[7]{3}$."
   ]
  },
  {
   "cell_type": "code",
   "execution_count": 9,
   "metadata": {},
   "outputs": [
    {
     "data": {
      "text/plain": [
       "1.1699308197545988"
      ]
     },
     "execution_count": 9,
     "metadata": {},
     "output_type": "execute_result"
    }
   ],
   "source": [
    "newton(lambda x: x**7 - 3, lambda x: 7*x**6, 1.5, 5)"
   ]
  },
  {
   "cell_type": "code",
   "execution_count": 10,
   "metadata": {},
   "outputs": [],
   "source": [
    "def newton_prec(f, df, x, prec):\n",
    "  while True:\n",
    "    tmp = x\n",
    "    x -= f(x) / df(x)\n",
    "    if abs(x - tmp) < prec:\n",
    "      break\n",
    "  return x"
   ]
  },
  {
   "cell_type": "markdown",
   "metadata": {},
   "source": [
    "### 2.5. Secant Method"
   ]
  },
  {
   "cell_type": "code",
   "execution_count": 11,
   "metadata": {},
   "outputs": [],
   "source": [
    "def secant(f, p0, p1, n):\n",
    "  for _ in range(n):\n",
    "    p2 = p1 - f(p1) * (p1 - p0) / (f(p1) - f(p0))\n",
    "    p0 = p1\n",
    "    p1 = p2\n",
    "  return p2"
   ]
  },
  {
   "cell_type": "code",
   "execution_count": 12,
   "metadata": {},
   "outputs": [
    {
     "data": {
      "text/plain": [
       "0.7390851332151607"
      ]
     },
     "execution_count": 12,
     "metadata": {},
     "output_type": "execute_result"
    }
   ],
   "source": [
    "secant(lambda x : math.cos(x) - x, 0.25, 0.4, 7)"
   ]
  },
  {
   "cell_type": "markdown",
   "metadata": {},
   "source": [
    "### 2.6. Accelerating Convergence"
   ]
  },
  {
   "cell_type": "markdown",
   "metadata": {},
   "source": [
    "Performing ten iterations to approximate the fixed point of $g(x) = \\ln(4 + x - x^2)$ using $p_0 = 2$, we find"
   ]
  },
  {
   "cell_type": "code",
   "execution_count": 13,
   "metadata": {},
   "outputs": [
    {
     "data": {
      "text/plain": [
       "1.288884977254729"
      ]
     },
     "execution_count": 13,
     "metadata": {},
     "output_type": "execute_result"
    }
   ],
   "source": [
    "fixed_point(lambda x : math.log(4 + x - x**2), 2, 10)"
   ]
  },
  {
   "cell_type": "code",
   "execution_count": 14,
   "metadata": {},
   "outputs": [],
   "source": [
    "# Aitken's ∆^2-method\n",
    "# def aitken():"
   ]
  },
  {
   "cell_type": "code",
   "execution_count": 15,
   "metadata": {},
   "outputs": [],
   "source": [
    "# def steffensen():"
   ]
  },
  {
   "cell_type": "markdown",
   "metadata": {},
   "source": [
    "# 3. Systems of Equations"
   ]
  },
  {
   "cell_type": "markdown",
   "metadata": {},
   "source": [
    "### 3.3. Vector & Matrix Norms"
   ]
  },
  {
   "cell_type": "markdown",
   "metadata": {},
   "source": [
    "### 3.9. Iterative Techniques"
   ]
  },
  {
   "cell_type": "markdown",
   "metadata": {},
   "source": [
    "### 3.10. Nonlinear Systems"
   ]
  },
  {
   "cell_type": "markdown",
   "metadata": {},
   "source": [
    "# 4. Eigenvalues & Eigenvectors"
   ]
  },
  {
   "cell_type": "markdown",
   "metadata": {},
   "source": [
    "### 4.1. Power Method"
   ]
  },
  {
   "cell_type": "code",
   "execution_count": 16,
   "metadata": {},
   "outputs": [],
   "source": [
    "def power_method(A, x, n):\n",
    "  for _ in range(n):\n",
    "    y = A @ x\n",
    "    x = y / np.linalg.norm(y, ord=np.inf)\n",
    "  return x"
   ]
  },
  {
   "cell_type": "code",
   "execution_count": 17,
   "metadata": {},
   "outputs": [
    {
     "data": {
      "text/plain": [
       "array([ 1.00000000e+00, -4.73029679e-04,  9.99511711e-01])"
      ]
     },
     "execution_count": 17,
     "metadata": {},
     "output_type": "execute_result"
    }
   ],
   "source": [
    "power_method(np.array([[15, 7, -7], [-1, 1, 1], [13, 7, -5]]), np.array([1, 0, 0]), 5)"
   ]
  },
  {
   "cell_type": "markdown",
   "metadata": {},
   "source": [
    "### 4.2. Inverse Power Method"
   ]
  },
  {
   "cell_type": "markdown",
   "metadata": {},
   "source": [
    "# 6. Differentiation & Integration"
   ]
  },
  {
   "cell_type": "markdown",
   "metadata": {},
   "source": [
    "### 6.5. Composite Newton-Cotes Quadrature"
   ]
  },
  {
   "cell_type": "markdown",
   "metadata": {},
   "source": [
    "Approximate the value of the definite integral $\\int_0^1 e^{-x} \\, dx$ using the composite trapezoidal rule, the composite midpoint rule, and the composite Simpson's rule. For each method, use the smallest value of $n$ that will guarantee an absolute error not greater than $5 \\times 10^{-5}$."
   ]
  },
  {
   "cell_type": "code",
   "execution_count": 18,
   "metadata": {},
   "outputs": [],
   "source": [
    "def composite_trapezoidal(f, n, a, b):\n",
    "  h = (b - a) / n\n",
    "  x = [a + j * h for j in range(0, n + 1)]\n",
    "\n",
    "  I = f(x[0]) + f(x[n])\n",
    "  for j in range(1, n):\n",
    "    I += 2 * f(x[j])\n",
    "  I *= h / 2\n",
    "  return I"
   ]
  },
  {
   "cell_type": "code",
   "execution_count": 19,
   "metadata": {},
   "outputs": [
    {
     "data": {
      "text/plain": [
       "0.6321518950516198"
      ]
     },
     "execution_count": 19,
     "metadata": {},
     "output_type": "execute_result"
    }
   ],
   "source": [
    "composite_trapezoidal(lambda x : math.exp(-x), 41, 0, 1)"
   ]
  },
  {
   "cell_type": "code",
   "execution_count": 20,
   "metadata": {},
   "outputs": [],
   "source": [
    "def composite_midpoint(f, n, a, b):\n",
    "  h = (b - a) / (2 * n)\n",
    "  x = [a + (2 * j - 1) * h for j in range(0, n + 1)]\n",
    "\n",
    "  I = 0\n",
    "  for j in range(1, n + 1):\n",
    "    I += f(x[j])\n",
    "  I *= 2 * h\n",
    "  return I"
   ]
  },
  {
   "cell_type": "code",
   "execution_count": 21,
   "metadata": {},
   "outputs": [
    {
     "data": {
      "text/plain": [
       "0.6320892420114262"
      ]
     },
     "execution_count": 21,
     "metadata": {},
     "output_type": "execute_result"
    }
   ],
   "source": [
    "composite_midpoint(lambda x : math.exp(-x), 29, 0, 1)"
   ]
  },
  {
   "cell_type": "code",
   "execution_count": 22,
   "metadata": {},
   "outputs": [],
   "source": [
    "def composite_simpsons(f, m, a, b):\n",
    "  h = (b - a) / (2 * m)\n",
    "  x = [a + i * h for i in range(0, 2 * m + 1)]\n",
    "\n",
    "  I = f(x[0]) + f(x[2 * m])\n",
    "  for j in range(1, m + 1):\n",
    "    I += 4 * f(x[2 * j - 1])\n",
    "  for j in range(1, m):\n",
    "    I += 2 * f(x[2 * j])\n",
    "  I *= h / 3\n",
    "  return I"
   ]
  },
  {
   "cell_type": "code",
   "execution_count": 23,
   "metadata": {},
   "outputs": [
    {
     "data": {
      "text/plain": [
       "0.6321341753205322"
      ]
     },
     "execution_count": 23,
     "metadata": {},
     "output_type": "execute_result"
    }
   ],
   "source": [
    "composite_simpsons(lambda x: math.exp(-x), 2, 0, 1)"
   ]
  }
 ],
 "metadata": {
  "kernelspec": {
   "display_name": "Python 3",
   "language": "python",
   "name": "python3"
  },
  "language_info": {
   "codemirror_mode": {
    "name": "ipython",
    "version": 3
   },
   "file_extension": ".py",
   "mimetype": "text/x-python",
   "name": "python",
   "nbconvert_exporter": "python",
   "pygments_lexer": "ipython3",
   "version": "3.9.5"
  }
 },
 "nbformat": 4,
 "nbformat_minor": 2
}
