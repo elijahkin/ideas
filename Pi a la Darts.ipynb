{
 "cells": [
  {
   "cell_type": "code",
   "execution_count": 1,
   "metadata": {},
   "outputs": [],
   "source": [
    "import random\n",
    "import math"
   ]
  },
  {
   "cell_type": "code",
   "execution_count": 2,
   "metadata": {},
   "outputs": [],
   "source": [
    "def generate_pt():\n",
    "    # Generates a point in the region {-1<x<1, -1<y<1} and returns whether it's with circle of radius 1 centered at origin\n",
    "    x = random.random()\n",
    "    y = random.random()\n",
    "    return math.sqrt(x**2+y**2) < 1"
   ]
  },
  {
   "cell_type": "code",
   "execution_count": 3,
   "metadata": {},
   "outputs": [
    {
     "name": "stdout",
     "output_type": "stream",
     "text": [
      "3.140936\n"
     ]
    }
   ],
   "source": [
    "# Area of square: l^2\n",
    "# Area of circle: pi*r^2 = pi*l^2/4\n",
    "hits = 0\n",
    "trials = 10**6\n",
    "for _ in range(trials):\n",
    "    hits += generate_pt()\n",
    "print(4 * hits/trials)"
   ]
  }
 ],
 "metadata": {
  "kernelspec": {
   "display_name": "Python 3",
   "language": "python",
   "name": "python3"
  },
  "language_info": {
   "codemirror_mode": {
    "name": "ipython",
    "version": 3
   },
   "file_extension": ".py",
   "mimetype": "text/x-python",
   "name": "python",
   "nbconvert_exporter": "python",
   "pygments_lexer": "ipython3",
   "version": "3.11.2"
  }
 },
 "nbformat": 4,
 "nbformat_minor": 2
}
